{
 "cells": [
  {
   "cell_type": "markdown",
   "id": "af5b91c3",
   "metadata": {},
   "source": [
    "# 선형회귀를 이용한 당뇨병 수치 예측\n",
    "\n"
   ]
  },
  {
   "cell_type": "code",
   "execution_count": 1,
   "id": "c233ec91",
   "metadata": {},
   "outputs": [],
   "source": [
    "import numpy as np\n",
    "import pandas as pd\n",
    "from sklearn.datasets import load_diabetes"
   ]
  },
  {
   "cell_type": "markdown",
   "id": "3e4384cf",
   "metadata": {},
   "source": [
    "### (1) 데이터 가져오기"
   ]
  },
  {
   "cell_type": "code",
   "execution_count": 2,
   "id": "bb9c77f3",
   "metadata": {},
   "outputs": [],
   "source": [
    "diabetes = load_diabetes()"
   ]
  },
  {
   "cell_type": "markdown",
   "id": "d6e13e70",
   "metadata": {},
   "source": [
    "### (2,3) 모델에 입력할 데이터 x,y 준비"
   ]
  },
  {
   "cell_type": "code",
   "execution_count": 3,
   "id": "03b9ce9b",
   "metadata": {
    "scrolled": false
   },
   "outputs": [
    {
     "name": "stdout",
     "output_type": "stream",
     "text": [
      ".. _diabetes_dataset:\n",
      "\n",
      "Diabetes dataset\n",
      "----------------\n",
      "\n",
      "Ten baseline variables, age, sex, body mass index, average blood\n",
      "pressure, and six blood serum measurements were obtained for each of n =\n",
      "442 diabetes patients, as well as the response of interest, a\n",
      "quantitative measure of disease progression one year after baseline.\n",
      "\n",
      "**Data Set Characteristics:**\n",
      "\n",
      "  :Number of Instances: 442\n",
      "\n",
      "  :Number of Attributes: First 10 columns are numeric predictive values\n",
      "\n",
      "  :Target: Column 11 is a quantitative measure of disease progression one year after baseline\n",
      "\n",
      "  :Attribute Information:\n",
      "      - age     age in years\n",
      "      - sex\n",
      "      - bmi     body mass index\n",
      "      - bp      average blood pressure\n",
      "      - s1      tc, total serum cholesterol\n",
      "      - s2      ldl, low-density lipoproteins\n",
      "      - s3      hdl, high-density lipoproteins\n",
      "      - s4      tch, total cholesterol / HDL\n",
      "      - s5      ltg, possibly log of serum triglycerides level\n",
      "      - s6      glu, blood sugar level\n",
      "\n",
      "Note: Each of these 10 feature variables have been mean centered and scaled by the standard deviation times `n_samples` (i.e. the sum of squares of each column totals 1).\n",
      "\n",
      "Source URL:\n",
      "https://www4.stat.ncsu.edu/~boos/var.select/diabetes.html\n",
      "\n",
      "For more information see:\n",
      "Bradley Efron, Trevor Hastie, Iain Johnstone and Robert Tibshirani (2004) \"Least Angle Regression,\" Annals of Statistics (with discussion), 407-499.\n",
      "(https://web.stanford.edu/~hastie/Papers/LARS/LeastAngle_2002.pdf)\n"
     ]
    }
   ],
   "source": [
    "# 데이터셋 설명 \n",
    "print(diabetes.DESCR)"
   ]
  },
  {
   "cell_type": "code",
   "execution_count": 4,
   "id": "88ab64f5",
   "metadata": {
    "scrolled": true
   },
   "outputs": [
    {
     "data": {
      "text/html": [
       "<div>\n",
       "<style scoped>\n",
       "    .dataframe tbody tr th:only-of-type {\n",
       "        vertical-align: middle;\n",
       "    }\n",
       "\n",
       "    .dataframe tbody tr th {\n",
       "        vertical-align: top;\n",
       "    }\n",
       "\n",
       "    .dataframe thead th {\n",
       "        text-align: right;\n",
       "    }\n",
       "</style>\n",
       "<table border=\"1\" class=\"dataframe\">\n",
       "  <thead>\n",
       "    <tr style=\"text-align: right;\">\n",
       "      <th></th>\n",
       "      <th>age</th>\n",
       "      <th>sex</th>\n",
       "      <th>bmi</th>\n",
       "      <th>bp</th>\n",
       "      <th>s1</th>\n",
       "      <th>s2</th>\n",
       "      <th>s3</th>\n",
       "      <th>s4</th>\n",
       "      <th>s5</th>\n",
       "      <th>s6</th>\n",
       "    </tr>\n",
       "  </thead>\n",
       "  <tbody>\n",
       "    <tr>\n",
       "      <th>0</th>\n",
       "      <td>0.038076</td>\n",
       "      <td>0.050680</td>\n",
       "      <td>0.061696</td>\n",
       "      <td>0.021872</td>\n",
       "      <td>-0.044223</td>\n",
       "      <td>-0.034821</td>\n",
       "      <td>-0.043401</td>\n",
       "      <td>-0.002592</td>\n",
       "      <td>0.019908</td>\n",
       "      <td>-0.017646</td>\n",
       "    </tr>\n",
       "    <tr>\n",
       "      <th>1</th>\n",
       "      <td>-0.001882</td>\n",
       "      <td>-0.044642</td>\n",
       "      <td>-0.051474</td>\n",
       "      <td>-0.026328</td>\n",
       "      <td>-0.008449</td>\n",
       "      <td>-0.019163</td>\n",
       "      <td>0.074412</td>\n",
       "      <td>-0.039493</td>\n",
       "      <td>-0.068330</td>\n",
       "      <td>-0.092204</td>\n",
       "    </tr>\n",
       "    <tr>\n",
       "      <th>2</th>\n",
       "      <td>0.085299</td>\n",
       "      <td>0.050680</td>\n",
       "      <td>0.044451</td>\n",
       "      <td>-0.005671</td>\n",
       "      <td>-0.045599</td>\n",
       "      <td>-0.034194</td>\n",
       "      <td>-0.032356</td>\n",
       "      <td>-0.002592</td>\n",
       "      <td>0.002864</td>\n",
       "      <td>-0.025930</td>\n",
       "    </tr>\n",
       "    <tr>\n",
       "      <th>3</th>\n",
       "      <td>-0.089063</td>\n",
       "      <td>-0.044642</td>\n",
       "      <td>-0.011595</td>\n",
       "      <td>-0.036656</td>\n",
       "      <td>0.012191</td>\n",
       "      <td>0.024991</td>\n",
       "      <td>-0.036038</td>\n",
       "      <td>0.034309</td>\n",
       "      <td>0.022692</td>\n",
       "      <td>-0.009362</td>\n",
       "    </tr>\n",
       "    <tr>\n",
       "      <th>4</th>\n",
       "      <td>0.005383</td>\n",
       "      <td>-0.044642</td>\n",
       "      <td>-0.036385</td>\n",
       "      <td>0.021872</td>\n",
       "      <td>0.003935</td>\n",
       "      <td>0.015596</td>\n",
       "      <td>0.008142</td>\n",
       "      <td>-0.002592</td>\n",
       "      <td>-0.031991</td>\n",
       "      <td>-0.046641</td>\n",
       "    </tr>\n",
       "    <tr>\n",
       "      <th>...</th>\n",
       "      <td>...</td>\n",
       "      <td>...</td>\n",
       "      <td>...</td>\n",
       "      <td>...</td>\n",
       "      <td>...</td>\n",
       "      <td>...</td>\n",
       "      <td>...</td>\n",
       "      <td>...</td>\n",
       "      <td>...</td>\n",
       "      <td>...</td>\n",
       "    </tr>\n",
       "    <tr>\n",
       "      <th>437</th>\n",
       "      <td>0.041708</td>\n",
       "      <td>0.050680</td>\n",
       "      <td>0.019662</td>\n",
       "      <td>0.059744</td>\n",
       "      <td>-0.005697</td>\n",
       "      <td>-0.002566</td>\n",
       "      <td>-0.028674</td>\n",
       "      <td>-0.002592</td>\n",
       "      <td>0.031193</td>\n",
       "      <td>0.007207</td>\n",
       "    </tr>\n",
       "    <tr>\n",
       "      <th>438</th>\n",
       "      <td>-0.005515</td>\n",
       "      <td>0.050680</td>\n",
       "      <td>-0.015906</td>\n",
       "      <td>-0.067642</td>\n",
       "      <td>0.049341</td>\n",
       "      <td>0.079165</td>\n",
       "      <td>-0.028674</td>\n",
       "      <td>0.034309</td>\n",
       "      <td>-0.018118</td>\n",
       "      <td>0.044485</td>\n",
       "    </tr>\n",
       "    <tr>\n",
       "      <th>439</th>\n",
       "      <td>0.041708</td>\n",
       "      <td>0.050680</td>\n",
       "      <td>-0.015906</td>\n",
       "      <td>0.017282</td>\n",
       "      <td>-0.037344</td>\n",
       "      <td>-0.013840</td>\n",
       "      <td>-0.024993</td>\n",
       "      <td>-0.011080</td>\n",
       "      <td>-0.046879</td>\n",
       "      <td>0.015491</td>\n",
       "    </tr>\n",
       "    <tr>\n",
       "      <th>440</th>\n",
       "      <td>-0.045472</td>\n",
       "      <td>-0.044642</td>\n",
       "      <td>0.039062</td>\n",
       "      <td>0.001215</td>\n",
       "      <td>0.016318</td>\n",
       "      <td>0.015283</td>\n",
       "      <td>-0.028674</td>\n",
       "      <td>0.026560</td>\n",
       "      <td>0.044528</td>\n",
       "      <td>-0.025930</td>\n",
       "    </tr>\n",
       "    <tr>\n",
       "      <th>441</th>\n",
       "      <td>-0.045472</td>\n",
       "      <td>-0.044642</td>\n",
       "      <td>-0.073030</td>\n",
       "      <td>-0.081414</td>\n",
       "      <td>0.083740</td>\n",
       "      <td>0.027809</td>\n",
       "      <td>0.173816</td>\n",
       "      <td>-0.039493</td>\n",
       "      <td>-0.004220</td>\n",
       "      <td>0.003064</td>\n",
       "    </tr>\n",
       "  </tbody>\n",
       "</table>\n",
       "<p>442 rows × 10 columns</p>\n",
       "</div>"
      ],
      "text/plain": [
       "          age       sex       bmi        bp        s1        s2        s3  \\\n",
       "0    0.038076  0.050680  0.061696  0.021872 -0.044223 -0.034821 -0.043401   \n",
       "1   -0.001882 -0.044642 -0.051474 -0.026328 -0.008449 -0.019163  0.074412   \n",
       "2    0.085299  0.050680  0.044451 -0.005671 -0.045599 -0.034194 -0.032356   \n",
       "3   -0.089063 -0.044642 -0.011595 -0.036656  0.012191  0.024991 -0.036038   \n",
       "4    0.005383 -0.044642 -0.036385  0.021872  0.003935  0.015596  0.008142   \n",
       "..        ...       ...       ...       ...       ...       ...       ...   \n",
       "437  0.041708  0.050680  0.019662  0.059744 -0.005697 -0.002566 -0.028674   \n",
       "438 -0.005515  0.050680 -0.015906 -0.067642  0.049341  0.079165 -0.028674   \n",
       "439  0.041708  0.050680 -0.015906  0.017282 -0.037344 -0.013840 -0.024993   \n",
       "440 -0.045472 -0.044642  0.039062  0.001215  0.016318  0.015283 -0.028674   \n",
       "441 -0.045472 -0.044642 -0.073030 -0.081414  0.083740  0.027809  0.173816   \n",
       "\n",
       "           s4        s5        s6  \n",
       "0   -0.002592  0.019908 -0.017646  \n",
       "1   -0.039493 -0.068330 -0.092204  \n",
       "2   -0.002592  0.002864 -0.025930  \n",
       "3    0.034309  0.022692 -0.009362  \n",
       "4   -0.002592 -0.031991 -0.046641  \n",
       "..        ...       ...       ...  \n",
       "437 -0.002592  0.031193  0.007207  \n",
       "438  0.034309 -0.018118  0.044485  \n",
       "439 -0.011080 -0.046879  0.015491  \n",
       "440  0.026560  0.044528 -0.025930  \n",
       "441 -0.039493 -0.004220  0.003064  \n",
       "\n",
       "[442 rows x 10 columns]"
      ]
     },
     "execution_count": 4,
     "metadata": {},
     "output_type": "execute_result"
    }
   ],
   "source": [
    "df = pd.DataFrame(data=diabetes.data, columns=diabetes.feature_names)\n",
    "\n",
    "X = df\n",
    "y = diabetes.target\n",
    "\n",
    "df"
   ]
  },
  {
   "cell_type": "markdown",
   "id": "d525ca17",
   "metadata": {},
   "source": [
    "#### 'sex' 컬럼이 0,1이 아닌 이유\n",
    "sex 컬럼은 환자의 성별을 나타내는 것이 아니라, 성별에 대한 지표로 설계되었기 때문이다. by chatGPT\n",
    "\n",
    "아니 다시보니까 normalization 해둔거였다."
   ]
  },
  {
   "cell_type": "code",
   "execution_count": 5,
   "id": "287bf9a9",
   "metadata": {},
   "outputs": [
    {
     "data": {
      "text/plain": [
       "Index(['age', 'sex', 'bmi', 'bp', 's1', 's2', 's3', 's4', 's5', 's6'], dtype='object')"
      ]
     },
     "execution_count": 5,
     "metadata": {},
     "output_type": "execute_result"
    }
   ],
   "source": [
    "# 특성 선택하기\n",
    "from sklearn.feature_selection import SelectKBest, f_regression\n",
    "\n",
    "# 특성 선택 - SelectKBest와 f_regression을 사용한 예시\n",
    "selector = SelectKBest(score_func=f_regression, k=10)  # 상위 5개의 특성 선택\n",
    "X_selected = selector.fit_transform(X, y)\n",
    "selected_features = X.columns[selector.get_support()]\n",
    "\n",
    "selected_features\n"
   ]
  },
  {
   "cell_type": "code",
   "execution_count": 6,
   "id": "d20b77a7",
   "metadata": {},
   "outputs": [],
   "source": [
    "# data, target 저장\n",
    "df_x = np.array(X[selected_features])\n",
    "df_y = y\n"
   ]
  },
  {
   "cell_type": "code",
   "execution_count": 7,
   "id": "1eccb766",
   "metadata": {},
   "outputs": [
    {
     "name": "stdout",
     "output_type": "stream",
     "text": [
      "type of df_x: <class 'numpy.ndarray'>\n",
      "type of df_y: <class 'numpy.ndarray'>\n"
     ]
    }
   ],
   "source": [
    "# df_x, df_y의 type 확인하기\n",
    "print(f\"type of df_x: {type(df_x)}\")\n",
    "print(f\"type of df_y: {type(df_y)}\")"
   ]
  },
  {
   "cell_type": "markdown",
   "id": "1762746b",
   "metadata": {},
   "source": [
    "### (4) train 데이터, test 데이터 분리하기"
   ]
  },
  {
   "cell_type": "code",
   "execution_count": 8,
   "id": "7761776e",
   "metadata": {},
   "outputs": [
    {
     "name": "stdout",
     "output_type": "stream",
     "text": [
      "(353, 10)\n",
      "(89, 10)\n",
      "(353,)\n",
      "(89,)\n"
     ]
    }
   ],
   "source": [
    "# x, y 데이터를 train, test 데이터로 분리하기\n",
    "from sklearn.model_selection import train_test_split\n",
    "\n",
    "X_train, X_test, y_train, y_test = train_test_split(df_x, df_y, test_size=0.2, random_state=42)\n",
    "\n",
    "print(X_train.shape)\n",
    "print(X_test.shape)\n",
    "print(y_train.shape)\n",
    "print(y_test.shape)"
   ]
  },
  {
   "cell_type": "markdown",
   "id": "1c38a6fd",
   "metadata": {},
   "source": [
    "### (5) 모델 준비하기"
   ]
  },
  {
   "cell_type": "code",
   "execution_count": 9,
   "id": "d99bb8fb",
   "metadata": {},
   "outputs": [],
   "source": [
    "# 모델 준비하기: w,b 초기화\n",
    "\n",
    "dim_x = df_x.shape[1]\n",
    "\n",
    "W = np.random.rand(dim_x)\n",
    "b = np.random.rand()\n",
    "\n",
    "def model(X,W,b):\n",
    "    pred = 0\n",
    "    for i in range(len(W)):\n",
    "        pred += X[:,i] * W[i]\n",
    "        pred += b\n",
    "    return pred\n",
    "\n"
   ]
  },
  {
   "cell_type": "markdown",
   "id": "8e9608ca",
   "metadata": {},
   "source": [
    "### (6) 손실함수 loss 정의하기"
   ]
  },
  {
   "cell_type": "code",
   "execution_count": 10,
   "id": "f093f620",
   "metadata": {},
   "outputs": [],
   "source": [
    "# 손실함수 정의하기\n",
    "\n",
    "def mse(y, pred):\n",
    "    mse = ((y-pred)**2).mean()\n",
    "    return mse\n",
    "\n",
    "        \n",
    "def loss(X, W, b, y):\n",
    "    pred = model(X, W, b)\n",
    "    L = mse(y, pred)\n",
    "    return L"
   ]
  },
  {
   "cell_type": "markdown",
   "id": "7dfd8e0b",
   "metadata": {},
   "source": [
    "### (7) 기울기 구하는 gradient 함수 구현하기"
   ]
  },
  {
   "cell_type": "code",
   "execution_count": 11,
   "id": "fbc45536",
   "metadata": {},
   "outputs": [],
   "source": [
    "# gradient 함수 구현\n",
    "\n",
    "def gradient(X,W,b,y):\n",
    "    N = len(y)\n",
    "    \n",
    "    y_pred = model(X,W,b)\n",
    "    \n",
    "    dW = 1/N * 2 * X.T.dot(y_pred - y)\n",
    "    \n",
    "    db = 2*(y_pred-y).mean()\n",
    "    \n",
    "    return dW, db\n"
   ]
  },
  {
   "cell_type": "markdown",
   "id": "cf2b14c5",
   "metadata": {},
   "source": [
    "### (8) 하이퍼파라미터 설정하기"
   ]
  },
  {
   "cell_type": "code",
   "execution_count": 12,
   "id": "fc9abdd0",
   "metadata": {},
   "outputs": [],
   "source": [
    "# 학습률 \n",
    "LEARNING_RATE = 0.09"
   ]
  },
  {
   "cell_type": "markdown",
   "id": "16be0488",
   "metadata": {},
   "source": [
    "### (9) 모델 학습하기"
   ]
  },
  {
   "cell_type": "code",
   "execution_count": 13,
   "id": "98f61550",
   "metadata": {},
   "outputs": [
    {
     "name": "stdout",
     "output_type": "stream",
     "text": [
      "Iteration 100 : Loss 5443.1862\n",
      "Iteration 200 : Loss 4969.5441\n",
      "Iteration 300 : Loss 4607.5423\n",
      "Iteration 400 : Loss 4327.9790\n",
      "Iteration 500 : Loss 4109.5865\n",
      "Iteration 600 : Loss 3936.8471\n",
      "Iteration 700 : Loss 3798.4128\n",
      "Iteration 800 : Loss 3685.9622\n",
      "Iteration 900 : Loss 3593.3725\n",
      "Iteration 1000 : Loss 3516.1201\n",
      "Iteration 1100 : Loss 3450.8470\n",
      "Iteration 1200 : Loss 3395.0454\n",
      "Iteration 1300 : Loss 3346.8296\n",
      "Iteration 1400 : Loss 3304.7707\n",
      "Iteration 1500 : Loss 3267.7756\n",
      "Iteration 1600 : Loss 3234.9999\n",
      "Iteration 1700 : Loss 3205.7835\n",
      "Iteration 1800 : Loss 3179.6045\n",
      "Iteration 1900 : Loss 3156.0448\n",
      "Iteration 2000 : Loss 3134.7649\n",
      "Iteration 2100 : Loss 3115.4857\n",
      "Iteration 2200 : Loss 3097.9750\n",
      "Iteration 2300 : Loss 3082.0366\n",
      "Iteration 2400 : Loss 3067.5035\n",
      "Iteration 2500 : Loss 3054.2319\n",
      "Iteration 2600 : Loss 3042.0967\n",
      "Iteration 2700 : Loss 3030.9883\n",
      "Iteration 2800 : Loss 3020.8100\n",
      "Iteration 2900 : Loss 3011.4758\n",
      "Iteration 3000 : Loss 3002.9093\n",
      "Iteration 3100 : Loss 2995.0419\n",
      "Iteration 3200 : Loss 2987.8118\n",
      "Iteration 3300 : Loss 2981.1635\n",
      "Iteration 3400 : Loss 2975.0467\n",
      "Iteration 3500 : Loss 2969.4158\n",
      "Iteration 3600 : Loss 2964.2296\n",
      "Iteration 3700 : Loss 2959.4504\n",
      "Iteration 3800 : Loss 2955.0443\n",
      "Iteration 3900 : Loss 2950.9800\n",
      "Iteration 4000 : Loss 2947.2292\n",
      "Iteration 4100 : Loss 2943.7661\n",
      "Iteration 4200 : Loss 2940.5670\n",
      "Iteration 4300 : Loss 2937.6105\n",
      "Iteration 4400 : Loss 2934.8767\n",
      "Iteration 4500 : Loss 2932.3478\n",
      "Iteration 4600 : Loss 2930.0072\n",
      "Iteration 4700 : Loss 2927.8398\n",
      "Iteration 4800 : Loss 2925.8319\n",
      "Iteration 4900 : Loss 2923.9707\n",
      "Iteration 5000 : Loss 2922.2447\n",
      "Iteration 5100 : Loss 2920.6433\n",
      "Iteration 5200 : Loss 2919.1567\n",
      "Iteration 5300 : Loss 2917.7760\n",
      "Iteration 5400 : Loss 2916.4930\n",
      "Iteration 5500 : Loss 2915.3001\n",
      "Iteration 5600 : Loss 2914.1905\n",
      "Iteration 5700 : Loss 2913.1577\n",
      "Iteration 5800 : Loss 2912.1959\n",
      "Iteration 5900 : Loss 2911.2998\n",
      "Iteration 6000 : Loss 2910.4645\n",
      "Iteration 6100 : Loss 2909.6853\n",
      "Iteration 6200 : Loss 2908.9581\n",
      "Iteration 6300 : Loss 2908.2790\n",
      "Iteration 6400 : Loss 2907.6446\n",
      "Iteration 6500 : Loss 2907.0514\n",
      "Iteration 6600 : Loss 2906.4966\n",
      "Iteration 6700 : Loss 2905.9773\n",
      "Iteration 6800 : Loss 2905.4910\n",
      "Iteration 6900 : Loss 2905.0353\n",
      "Iteration 7000 : Loss 2904.6079\n",
      "Iteration 7100 : Loss 2904.2070\n",
      "Iteration 7200 : Loss 2903.8307\n",
      "Iteration 7300 : Loss 2903.4771\n",
      "Iteration 7400 : Loss 2903.1448\n",
      "Iteration 7500 : Loss 2902.8322\n",
      "Iteration 7600 : Loss 2902.5380\n",
      "Iteration 7700 : Loss 2902.2609\n",
      "Iteration 7800 : Loss 2901.9997\n",
      "Iteration 7900 : Loss 2901.7535\n",
      "Iteration 8000 : Loss 2901.5211\n",
      "Iteration 8100 : Loss 2901.3016\n",
      "Iteration 8200 : Loss 2901.0942\n",
      "Iteration 8300 : Loss 2900.8981\n",
      "Iteration 8400 : Loss 2900.7125\n",
      "Iteration 8500 : Loss 2900.5367\n",
      "Iteration 8600 : Loss 2900.3702\n",
      "Iteration 8700 : Loss 2900.2122\n",
      "Iteration 8800 : Loss 2900.0623\n",
      "Iteration 8900 : Loss 2899.9199\n",
      "Iteration 9000 : Loss 2899.7845\n",
      "Iteration 9100 : Loss 2899.6558\n",
      "Iteration 9200 : Loss 2899.5333\n",
      "Iteration 9300 : Loss 2899.4165\n",
      "Iteration 9400 : Loss 2899.3052\n",
      "Iteration 9500 : Loss 2899.1990\n",
      "Iteration 9600 : Loss 2899.0976\n",
      "Iteration 9700 : Loss 2899.0007\n",
      "Iteration 9800 : Loss 2898.9080\n",
      "Iteration 9900 : Loss 2898.8193\n",
      "Iteration 10000 : Loss 2898.7343\n",
      "Iteration 10100 : Loss 2898.6528\n",
      "Iteration 10200 : Loss 2898.5746\n",
      "Iteration 10300 : Loss 2898.4995\n",
      "Iteration 10400 : Loss 2898.4273\n",
      "Iteration 10500 : Loss 2898.3579\n",
      "Iteration 10600 : Loss 2898.2911\n",
      "Iteration 10700 : Loss 2898.2267\n",
      "Iteration 10800 : Loss 2898.1646\n",
      "Iteration 10900 : Loss 2898.1047\n",
      "Iteration 11000 : Loss 2898.0468\n",
      "Iteration 11100 : Loss 2897.9909\n",
      "Iteration 11200 : Loss 2897.9367\n",
      "Iteration 11300 : Loss 2897.8843\n",
      "Iteration 11400 : Loss 2897.8335\n",
      "Iteration 11500 : Loss 2897.7843\n",
      "Iteration 11600 : Loss 2897.7365\n",
      "Iteration 11700 : Loss 2897.6901\n",
      "Iteration 11800 : Loss 2897.6449\n",
      "Iteration 11900 : Loss 2897.6010\n",
      "Iteration 12000 : Loss 2897.5582\n",
      "Iteration 12100 : Loss 2897.5166\n",
      "Iteration 12200 : Loss 2897.4760\n",
      "Iteration 12300 : Loss 2897.4363\n",
      "Iteration 12400 : Loss 2897.3976\n",
      "Iteration 12500 : Loss 2897.3598\n",
      "Iteration 12600 : Loss 2897.3228\n",
      "Iteration 12700 : Loss 2897.2866\n",
      "Iteration 12800 : Loss 2897.2511\n",
      "Iteration 12900 : Loss 2897.2164\n",
      "Iteration 13000 : Loss 2897.1823\n",
      "Iteration 13100 : Loss 2897.1489\n",
      "Iteration 13200 : Loss 2897.1161\n",
      "Iteration 13300 : Loss 2897.0838\n",
      "Iteration 13400 : Loss 2897.0521\n",
      "Iteration 13500 : Loss 2897.0210\n",
      "Iteration 13600 : Loss 2896.9903\n",
      "Iteration 13700 : Loss 2896.9601\n",
      "Iteration 13800 : Loss 2896.9303\n",
      "Iteration 13900 : Loss 2896.9010\n",
      "Iteration 14000 : Loss 2896.8721\n",
      "Iteration 14100 : Loss 2896.8436\n",
      "Iteration 14200 : Loss 2896.8154\n",
      "Iteration 14300 : Loss 2896.7875\n",
      "Iteration 14400 : Loss 2896.7601\n",
      "Iteration 14500 : Loss 2896.7329\n",
      "Iteration 14600 : Loss 2896.7060\n",
      "Iteration 14700 : Loss 2896.6794\n",
      "Iteration 14800 : Loss 2896.6531\n",
      "Iteration 14900 : Loss 2896.6270\n",
      "Iteration 15000 : Loss 2896.6012\n",
      "Iteration 15100 : Loss 2896.5757\n",
      "Iteration 15200 : Loss 2896.5503\n",
      "Iteration 15300 : Loss 2896.5252\n",
      "Iteration 15400 : Loss 2896.5003\n",
      "Iteration 15500 : Loss 2896.4755\n",
      "Iteration 15600 : Loss 2896.4510\n",
      "Iteration 15700 : Loss 2896.4266\n",
      "Iteration 15800 : Loss 2896.4024\n",
      "Iteration 15900 : Loss 2896.3784\n",
      "Iteration 16000 : Loss 2896.3545\n",
      "Iteration 16100 : Loss 2896.3308\n",
      "Iteration 16200 : Loss 2896.3073\n",
      "Iteration 16300 : Loss 2896.2838\n",
      "Iteration 16400 : Loss 2896.2605\n",
      "Iteration 16500 : Loss 2896.2373\n",
      "Iteration 16600 : Loss 2896.2143\n",
      "Iteration 16700 : Loss 2896.1913\n",
      "Iteration 16800 : Loss 2896.1685\n",
      "Iteration 16900 : Loss 2896.1458\n",
      "Iteration 17000 : Loss 2896.1232\n",
      "Iteration 17100 : Loss 2896.1006\n",
      "Iteration 17200 : Loss 2896.0782\n",
      "Iteration 17300 : Loss 2896.0559\n",
      "Iteration 17400 : Loss 2896.0336\n",
      "Iteration 17500 : Loss 2896.0114\n",
      "Iteration 17600 : Loss 2895.9894\n",
      "Iteration 17700 : Loss 2895.9673\n",
      "Iteration 17800 : Loss 2895.9454\n",
      "Iteration 17900 : Loss 2895.9235\n",
      "Iteration 18000 : Loss 2895.9018\n",
      "Iteration 18100 : Loss 2895.8800\n",
      "Iteration 18200 : Loss 2895.8584\n",
      "Iteration 18300 : Loss 2895.8368\n",
      "Iteration 18400 : Loss 2895.8152\n",
      "Iteration 18500 : Loss 2895.7937\n",
      "Iteration 18600 : Loss 2895.7723\n",
      "Iteration 18700 : Loss 2895.7509\n",
      "Iteration 18800 : Loss 2895.7296\n",
      "Iteration 18900 : Loss 2895.7083\n",
      "Iteration 19000 : Loss 2895.6871\n",
      "Iteration 19100 : Loss 2895.6659\n",
      "Iteration 19200 : Loss 2895.6448\n",
      "Iteration 19300 : Loss 2895.6237\n",
      "Iteration 19400 : Loss 2895.6027\n",
      "Iteration 19500 : Loss 2895.5817\n",
      "Iteration 19600 : Loss 2895.5607\n",
      "Iteration 19700 : Loss 2895.5398\n",
      "Iteration 19800 : Loss 2895.5189\n",
      "Iteration 19900 : Loss 2895.4981\n",
      "Iteration 20000 : Loss 2895.4772\n"
     ]
    },
    {
     "data": {
      "image/png": "[encoded data removed]",
      "text/plain": [
       "<Figure size 432x288 with 1 Axes>"
      ]
     },
     "metadata": {
      "needs_background": "light"
     },
     "output_type": "display_data"
    }
   ],
   "source": [
    "# 모델 학습하기\n",
    "losses = []\n",
    "\n",
    "for i in range(1, 20001):\n",
    "    dW, db = gradient(X_train, W, b, y_train)\n",
    "    W -= LEARNING_RATE * dW\n",
    "    b -= LEARNING_RATE * db\n",
    "    L = loss(X_train, W, b, y_train)\n",
    "    losses.append(L)\n",
    "    if i % 100 == 0:\n",
    "        print('Iteration %d : Loss %0.4f' % (i, L))\n",
    "\n",
    "import matplotlib.pyplot as plt\n",
    "plt.plot(losses)\n",
    "plt.show()"
   ]
  },
  {
   "cell_type": "code",
   "execution_count": 14,
   "id": "a26e25e0",
   "metadata": {},
   "outputs": [
    {
     "data": {
      "text/plain": [
       "2884.7328102516585"
      ]
     },
     "execution_count": 14,
     "metadata": {},
     "output_type": "execute_result"
    }
   ],
   "source": [
    "# testset에 대한 성능 확인\n",
    "prediction = model(X_test, W, b)\n",
    "mse = loss(X_test, W, b, y_test)\n",
    "mse"
   ]
  },
  {
   "cell_type": "code",
   "execution_count": 15,
   "id": "d584d8fd",
   "metadata": {},
   "outputs": [
    {
     "data": {
      "image/png": "[encoded data removed]",
      "text/plain": [
       "<Figure size 432x288 with 1 Axes>"
      ]
     },
     "metadata": {
      "needs_background": "light"
     },
     "output_type": "display_data"
    }
   ],
   "source": [
    "# 정답 데이터, 예측 데이터 시각화하기\n",
    "plt.scatter(X_test[:, 0], y_test)\n",
    "plt.scatter(X_test[:, 0], prediction)\n",
    "plt.show()"
   ]
  },
  {
   "cell_type": "code",
   "execution_count": null,
   "id": "ae59a2dd",
   "metadata": {},
   "outputs": [],
   "source": []
  }
 ],
 "metadata": {
  "kernelspec": {
   "display_name": "Python 3 (ipykernel)",
   "language": "python",
   "name": "python3"
  },
  "language_info": {
   "codemirror_mode": {
    "name": "ipython",
    "version": 3
   },
   "file_extension": ".py",
   "mimetype": "text/x-python",
   "name": "python",
   "nbconvert_exporter": "python",
   "pygments_lexer": "ipython3",
   "version": "3.9.7"
  }
 },
 "nbformat": 4,
 "nbformat_minor": 5
}
